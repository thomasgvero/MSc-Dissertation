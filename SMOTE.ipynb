{
 "cells": [
  {
   "cell_type": "code",
   "execution_count": 1,
   "id": "43072201",
   "metadata": {},
   "outputs": [],
   "source": [
    "import pandas as pd\n",
    "import seaborn as sns\n",
    "import numpy as np\n",
    "import sklearn\n",
    "\n",
    "\n",
    "from sklearn.pipeline import make_pipeline\n",
    "\n",
    "#initial data import\n",
    "df = pd.read_csv('dfnum.csv')\n",
    "\n",
    "df = df.drop([\"Unnamed: 0\"],axis=1)"
   ]
  },
  {
   "cell_type": "code",
   "execution_count": 3,
   "id": "60351e3c",
   "metadata": {},
   "outputs": [
    {
     "name": "stdout",
     "output_type": "stream",
     "text": [
      "Collecting imbalanced-learn\n",
      "  Downloading imbalanced_learn-0.8.0-py3-none-any.whl (206 kB)\n",
      "\u001b[K     |████████████████████████████████| 206 kB 2.7 MB/s eta 0:00:01\n",
      "\u001b[?25hRequirement already satisfied: numpy>=1.13.3 in /Users/tomgvero/opt/anaconda3/envs/Diss/lib/python3.8/site-packages (from imbalanced-learn) (1.19.2)\n",
      "Requirement already satisfied: scipy>=0.19.1 in /Users/tomgvero/opt/anaconda3/envs/Diss/lib/python3.8/site-packages (from imbalanced-learn) (1.6.2)\n",
      "Requirement already satisfied: joblib>=0.11 in /Users/tomgvero/opt/anaconda3/envs/Diss/lib/python3.8/site-packages (from imbalanced-learn) (1.0.1)\n",
      "Requirement already satisfied: scikit-learn>=0.24 in /Users/tomgvero/opt/anaconda3/envs/Diss/lib/python3.8/site-packages (from imbalanced-learn) (0.24.2)\n",
      "Requirement already satisfied: threadpoolctl>=2.0.0 in /Users/tomgvero/opt/anaconda3/envs/Diss/lib/python3.8/site-packages (from scikit-learn>=0.24->imbalanced-learn) (2.2.0)\n",
      "Installing collected packages: imbalanced-learn\n",
      "Successfully installed imbalanced-learn-0.8.0\n",
      "Note: you may need to restart the kernel to use updated packages.\n"
     ]
    }
   ],
   "source": [
    "pip install imbalanced-learn"
   ]
  },
  {
   "cell_type": "code",
   "execution_count": 5,
   "id": "09da9b19",
   "metadata": {},
   "outputs": [],
   "source": [
    "import imblearn"
   ]
  },
  {
   "cell_type": "code",
   "execution_count": 6,
   "id": "6899dc11",
   "metadata": {},
   "outputs": [
    {
     "name": "stdout",
     "output_type": "stream",
     "text": [
      "0.8.0\n"
     ]
    }
   ],
   "source": [
    "print(imblearn.__version__)"
   ]
  },
  {
   "cell_type": "code",
   "execution_count": 19,
   "id": "4449441c",
   "metadata": {},
   "outputs": [],
   "source": [
    "from imblearn.over_sampling import SMOTE\n",
    "\n",
    "from collections import Counter"
   ]
  },
  {
   "cell_type": "code",
   "execution_count": 36,
   "id": "5976ea57",
   "metadata": {},
   "outputs": [
    {
     "data": {
      "text/plain": [
       "Counter({1: 5971, 0: 495})"
      ]
     },
     "execution_count": 36,
     "metadata": {},
     "output_type": "execute_result"
    }
   ],
   "source": [
    "df = pd.get_dummies(df,drop_first=True)\n",
    "\n",
    "X = df.drop(\"Outcome_G\",axis=1)\n",
    "\n",
    "y = df[\"Outcome_G\"]\n",
    "\n",
    "Counter(y)\n",
    "\n",
    "#only 7.5% of cases are bad credit"
   ]
  },
  {
   "cell_type": "code",
   "execution_count": 37,
   "id": "733f6962",
   "metadata": {},
   "outputs": [],
   "source": [
    "#paper recommends to combine SMOTE with undersampling of the majority class\n",
    "from imblearn.under_sampling import RandomUnderSampler\n",
    "from imblearn.pipeline import Pipeline\n",
    "\n",
    "over = SMOTE(sampling_strategy=0.5)\n",
    "under = RandomUnderSampler(sampling_strategy=0.5)\n",
    "\n",
    "steps = [(\"o\", over),(\"u\", under)]\n",
    "pipeline = Pipeline(steps=steps)"
   ]
  },
  {
   "cell_type": "code",
   "execution_count": 39,
   "id": "b662b63d",
   "metadata": {},
   "outputs": [],
   "source": [
    "X, y = pipeline.fit_resample(X,y)"
   ]
  },
  {
   "cell_type": "code",
   "execution_count": 40,
   "id": "2d07bcd9",
   "metadata": {},
   "outputs": [
    {
     "name": "stdout",
     "output_type": "stream",
     "text": [
      "Counter({1: 5970, 0: 2985})\n"
     ]
    }
   ],
   "source": [
    "counter = Counter(y)\n",
    "print(counter)\n",
    "\n",
    "#now half half as many bad cases as good - seems more reasonable"
   ]
  },
  {
   "cell_type": "code",
   "execution_count": 42,
   "id": "dd3fb21b",
   "metadata": {},
   "outputs": [
    {
     "data": {
      "text/html": [
       "<div>\n",
       "<style scoped>\n",
       "    .dataframe tbody tr th:only-of-type {\n",
       "        vertical-align: middle;\n",
       "    }\n",
       "\n",
       "    .dataframe tbody tr th {\n",
       "        vertical-align: top;\n",
       "    }\n",
       "\n",
       "    .dataframe thead th {\n",
       "        text-align: right;\n",
       "    }\n",
       "</style>\n",
       "<table border=\"1\" class=\"dataframe\">\n",
       "  <thead>\n",
       "    <tr style=\"text-align: right;\">\n",
       "      <th></th>\n",
       "      <th>Term</th>\n",
       "      <th>Age1</th>\n",
       "      <th>MUDI</th>\n",
       "      <th>Avg Transactions</th>\n",
       "      <th>Avg Bal</th>\n",
       "      <th>Avg Turnover</th>\n",
       "      <th>Time with Bank Years</th>\n",
       "      <th>Total Salary</th>\n",
       "      <th>Multiple Customers</th>\n",
       "      <th>Single Purpose</th>\n",
       "      <th>Outcome_G</th>\n",
       "    </tr>\n",
       "  </thead>\n",
       "  <tbody>\n",
       "    <tr>\n",
       "      <th>0</th>\n",
       "      <td>60</td>\n",
       "      <td>5608</td>\n",
       "      <td>6</td>\n",
       "      <td>1</td>\n",
       "      <td>4642</td>\n",
       "      <td>100</td>\n",
       "      <td>10</td>\n",
       "      <td>45</td>\n",
       "      <td>0</td>\n",
       "      <td>0</td>\n",
       "      <td>0</td>\n",
       "    </tr>\n",
       "    <tr>\n",
       "      <th>1</th>\n",
       "      <td>36</td>\n",
       "      <td>3702</td>\n",
       "      <td>3</td>\n",
       "      <td>30</td>\n",
       "      <td>135</td>\n",
       "      <td>2878</td>\n",
       "      <td>9</td>\n",
       "      <td>36</td>\n",
       "      <td>0</td>\n",
       "      <td>0</td>\n",
       "      <td>0</td>\n",
       "    </tr>\n",
       "    <tr>\n",
       "      <th>2</th>\n",
       "      <td>60</td>\n",
       "      <td>3200</td>\n",
       "      <td>1</td>\n",
       "      <td>2</td>\n",
       "      <td>2483</td>\n",
       "      <td>334</td>\n",
       "      <td>6</td>\n",
       "      <td>21</td>\n",
       "      <td>0</td>\n",
       "      <td>0</td>\n",
       "      <td>0</td>\n",
       "    </tr>\n",
       "    <tr>\n",
       "      <th>3</th>\n",
       "      <td>36</td>\n",
       "      <td>1910</td>\n",
       "      <td>1</td>\n",
       "      <td>37</td>\n",
       "      <td>478</td>\n",
       "      <td>2402</td>\n",
       "      <td>3</td>\n",
       "      <td>7</td>\n",
       "      <td>0</td>\n",
       "      <td>0</td>\n",
       "      <td>0</td>\n",
       "    </tr>\n",
       "    <tr>\n",
       "      <th>4</th>\n",
       "      <td>60</td>\n",
       "      <td>3400</td>\n",
       "      <td>0</td>\n",
       "      <td>15</td>\n",
       "      <td>384</td>\n",
       "      <td>2887</td>\n",
       "      <td>10</td>\n",
       "      <td>50</td>\n",
       "      <td>0</td>\n",
       "      <td>0</td>\n",
       "      <td>0</td>\n",
       "    </tr>\n",
       "    <tr>\n",
       "      <th>...</th>\n",
       "      <td>...</td>\n",
       "      <td>...</td>\n",
       "      <td>...</td>\n",
       "      <td>...</td>\n",
       "      <td>...</td>\n",
       "      <td>...</td>\n",
       "      <td>...</td>\n",
       "      <td>...</td>\n",
       "      <td>...</td>\n",
       "      <td>...</td>\n",
       "      <td>...</td>\n",
       "    </tr>\n",
       "    <tr>\n",
       "      <th>8950</th>\n",
       "      <td>60</td>\n",
       "      <td>3305</td>\n",
       "      <td>1</td>\n",
       "      <td>32</td>\n",
       "      <td>821</td>\n",
       "      <td>3752</td>\n",
       "      <td>4</td>\n",
       "      <td>42</td>\n",
       "      <td>0</td>\n",
       "      <td>1</td>\n",
       "      <td>1</td>\n",
       "    </tr>\n",
       "    <tr>\n",
       "      <th>8951</th>\n",
       "      <td>36</td>\n",
       "      <td>4904</td>\n",
       "      <td>0</td>\n",
       "      <td>37</td>\n",
       "      <td>13</td>\n",
       "      <td>2921</td>\n",
       "      <td>18</td>\n",
       "      <td>109</td>\n",
       "      <td>1</td>\n",
       "      <td>1</td>\n",
       "      <td>1</td>\n",
       "    </tr>\n",
       "    <tr>\n",
       "      <th>8952</th>\n",
       "      <td>36</td>\n",
       "      <td>2901</td>\n",
       "      <td>0</td>\n",
       "      <td>33</td>\n",
       "      <td>291</td>\n",
       "      <td>2233</td>\n",
       "      <td>2</td>\n",
       "      <td>30</td>\n",
       "      <td>0</td>\n",
       "      <td>1</td>\n",
       "      <td>1</td>\n",
       "    </tr>\n",
       "    <tr>\n",
       "      <th>8953</th>\n",
       "      <td>60</td>\n",
       "      <td>2207</td>\n",
       "      <td>6</td>\n",
       "      <td>34</td>\n",
       "      <td>1377</td>\n",
       "      <td>2952</td>\n",
       "      <td>10</td>\n",
       "      <td>27</td>\n",
       "      <td>0</td>\n",
       "      <td>0</td>\n",
       "      <td>1</td>\n",
       "    </tr>\n",
       "    <tr>\n",
       "      <th>8954</th>\n",
       "      <td>36</td>\n",
       "      <td>4311</td>\n",
       "      <td>0</td>\n",
       "      <td>34</td>\n",
       "      <td>744</td>\n",
       "      <td>4620</td>\n",
       "      <td>17</td>\n",
       "      <td>53</td>\n",
       "      <td>1</td>\n",
       "      <td>1</td>\n",
       "      <td>1</td>\n",
       "    </tr>\n",
       "  </tbody>\n",
       "</table>\n",
       "<p>8955 rows × 11 columns</p>\n",
       "</div>"
      ],
      "text/plain": [
       "      Term  Age1  MUDI  Avg Transactions  Avg Bal  Avg Turnover  \\\n",
       "0       60  5608     6                 1     4642           100   \n",
       "1       36  3702     3                30      135          2878   \n",
       "2       60  3200     1                 2     2483           334   \n",
       "3       36  1910     1                37      478          2402   \n",
       "4       60  3400     0                15      384          2887   \n",
       "...    ...   ...   ...               ...      ...           ...   \n",
       "8950    60  3305     1                32      821          3752   \n",
       "8951    36  4904     0                37       13          2921   \n",
       "8952    36  2901     0                33      291          2233   \n",
       "8953    60  2207     6                34     1377          2952   \n",
       "8954    36  4311     0                34      744          4620   \n",
       "\n",
       "      Time with Bank Years  Total Salary  Multiple Customers  Single Purpose  \\\n",
       "0                       10            45                   0               0   \n",
       "1                        9            36                   0               0   \n",
       "2                        6            21                   0               0   \n",
       "3                        3             7                   0               0   \n",
       "4                       10            50                   0               0   \n",
       "...                    ...           ...                 ...             ...   \n",
       "8950                     4            42                   0               1   \n",
       "8951                    18           109                   1               1   \n",
       "8952                     2            30                   0               1   \n",
       "8953                    10            27                   0               0   \n",
       "8954                    17            53                   1               1   \n",
       "\n",
       "      Outcome_G  \n",
       "0             0  \n",
       "1             0  \n",
       "2             0  \n",
       "3             0  \n",
       "4             0  \n",
       "...         ...  \n",
       "8950          1  \n",
       "8951          1  \n",
       "8952          1  \n",
       "8953          1  \n",
       "8954          1  \n",
       "\n",
       "[8955 rows x 11 columns]"
      ]
     },
     "execution_count": 42,
     "metadata": {},
     "output_type": "execute_result"
    }
   ],
   "source": [
    "df_smote = X\n",
    "df_smote[\"Outcome_G\"] = y\n",
    "df_smote"
   ]
  },
  {
   "cell_type": "code",
   "execution_count": 43,
   "id": "b1d25f20",
   "metadata": {},
   "outputs": [],
   "source": [
    "df_smote.to_csv(\"dfsmote.csv\")"
   ]
  },
  {
   "cell_type": "code",
   "execution_count": 46,
   "id": "68798e3e",
   "metadata": {},
   "outputs": [
    {
     "data": {
      "text/plain": [
       "[2.72]"
      ]
     },
     "execution_count": 46,
     "metadata": {},
     "output_type": "execute_result"
    }
   ],
   "source": [
    "v = [1,2,3]\n",
    "v.clear()\n",
    "v.append(2.72)\n",
    "v"
   ]
  },
  {
   "cell_type": "code",
   "execution_count": null,
   "id": "d1a7cdb8",
   "metadata": {},
   "outputs": [],
   "source": []
  }
 ],
 "metadata": {
  "kernelspec": {
   "display_name": "Python 3",
   "language": "python",
   "name": "python3"
  },
  "language_info": {
   "codemirror_mode": {
    "name": "ipython",
    "version": 3
   },
   "file_extension": ".py",
   "mimetype": "text/x-python",
   "name": "python",
   "nbconvert_exporter": "python",
   "pygments_lexer": "ipython3",
   "version": "3.8.10"
  }
 },
 "nbformat": 4,
 "nbformat_minor": 5
}
