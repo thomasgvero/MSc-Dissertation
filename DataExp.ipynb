{
 "cells": [
  {
   "cell_type": "code",
   "execution_count": 207,
   "metadata": {},
   "outputs": [],
   "source": [
    "import pandas as pd\n",
    "import seaborn as sns\n",
    "import numpy as np\n",
    "\n",
    "#initial data import\n",
    "df = pd.read_excel('Data.xlsx')\n",
    "#want to see all columns\n",
    "pd.set_option('display.max_columns', None)"
   ]
  },
  {
   "cell_type": "markdown",
   "metadata": {},
   "source": [
    "### Data Exploration/Tidying\n",
    "\n",
    "To do:\n",
    "\n",
    "- ~~Remove individual salary columns~~\n",
    "- ~~Move total salary between term and employment~~\n",
    "- Look into employment status columns\n",
    "- ~~Split up loan purpose column into each type~~\n",
    "- ~~Add multiple customers indicator column~~\n",
    "- ~~Application type and industry sector need to be encoded~~\n",
    "- ~~Can we use age or not?~~\n",
    "- ~~Can we use nationality? most are irish obviously~~\n",
    "- ~~Make existing mortgate to salary mandated binary~~\n",
    "- ~~Make LT 1 year values more useable~~\n",
    "- ~~Work out what status means~~"
   ]
  },
  {
   "cell_type": "code",
   "execution_count": 208,
   "metadata": {},
   "outputs": [],
   "source": [
    "#remove last three columns which are empty\n",
    "df = df.iloc[:,:-3]"
   ]
  },
  {
   "cell_type": "code",
   "execution_count": 209,
   "metadata": {},
   "outputs": [],
   "source": [
    "#combine salaries of partners\n",
    "df[\"Total Salary\"] = df.iloc[:,2]+df.iloc[:,3]"
   ]
  },
  {
   "cell_type": "code",
   "execution_count": 210,
   "metadata": {},
   "outputs": [
    {
     "data": {
      "text/plain": [
       "6344"
      ]
     },
     "execution_count": 210,
     "metadata": {},
     "output_type": "execute_result"
    }
   ],
   "source": [
    "#count number of rejects - about half and half (should be fine for not bothering with inference)\n",
    "#must address the bias issue!!!\n",
    "(df[\"Status - G/B/R\"]==\"R\").sum()"
   ]
  },
  {
   "cell_type": "code",
   "execution_count": 211,
   "metadata": {},
   "outputs": [],
   "source": [
    "#drop separated customer salary columns\n",
    "df = df.drop(df.columns[2:4],axis=1)"
   ]
  },
  {
   "cell_type": "code",
   "execution_count": 212,
   "metadata": {},
   "outputs": [],
   "source": [
    "#sanity check, make sure most purposes is 3 (3x3 letters + 2 slash)\n",
    "max(df[\"Loan Purpose\"].str.len())\n",
    "\n",
    "#split up each of three purposes into their own column\n",
    "new = df[\"Loan Purpose\"].str.split(\"/\", n = 2, expand = True)\n",
    "\n",
    "#replace none with nan\n",
    "new = new.fillna(value=np.nan)\n",
    "\n",
    "#add new columns into our data frame corresponding to each distinct purpose\n",
    "df[\"Purpose1\"] = new[0]\n",
    "df[\"Purpose2\"] = new[1]\n",
    "df[\"Purpose3\"] = new[2]\n",
    "\n",
    "#remove loan purpose column\n",
    "df = df.drop([\"Loan Purpose\"],axis=1)"
   ]
  },
  {
   "cell_type": "code",
   "execution_count": 213,
   "metadata": {},
   "outputs": [],
   "source": [
    "#add new variable for if there are multiple customers (i.e. married couple etc)\n",
    "df['Multiple Customers'] = np.where(df['Customer2 Age (YYMM)'] == 0 , 0, 1)"
   ]
  },
  {
   "cell_type": "code",
   "execution_count": 214,
   "metadata": {},
   "outputs": [],
   "source": [
    "df['Single Purpose'] = df[\"Purpose2\"].isnull()*1"
   ]
  },
  {
   "cell_type": "code",
   "execution_count": 215,
   "metadata": {},
   "outputs": [
    {
     "data": {
      "text/plain": [
       "array([10, 14, 6, 3, 13, 15, 11, 8, 17, 4, 9, 2, 5, 16, 20, 'New', 18, 12,\n",
       "       1, 7, 19, 'LT 1 year', 22, 21, 32, 24, 99, 25, 23, 33, 26, 31, 29,\n",
       "       27, 28, 30], dtype=object)"
      ]
     },
     "execution_count": 215,
     "metadata": {},
     "output_type": "execute_result"
    }
   ],
   "source": [
    "#check for any other non-numeric values\n",
    "df[\"Time with Bank Years\"].unique()\n",
    "\n",
    "#also need to deal with New as well as LT 1 year\n",
    "\n",
    "#have a look at 99 years (could be error)"
   ]
  },
  {
   "cell_type": "code",
   "execution_count": 216,
   "metadata": {},
   "outputs": [],
   "source": [
    "#indices of customers with 99 years at bank\n",
    "error_idx = np.where(df[\"Time with Bank Years\"]==99)"
   ]
  },
  {
   "cell_type": "code",
   "execution_count": 217,
   "metadata": {},
   "outputs": [
    {
     "data": {
      "text/plain": [
       "Application  Date (YYYYMM)                        201002\n",
       "Term                                                  60\n",
       "Customer1 Employment Status                            F\n",
       "Customer2 Emp Status                                 NaN\n",
       "Application Type                                       S\n",
       "Industry Sector                                       RS\n",
       "Customer1 Age (YYMM)                                4405\n",
       "Customer2 Age (YYMM)                                   0\n",
       "National of …                                        IRE\n",
       "CA Months of Unauthorised Debit Interest L6M           1\n",
       "CA Average Number of Transactions L6M                 10\n",
       "CA Average Balance L6M                               757\n",
       "CA Average Credit Turnover L6M                      2510\n",
       "Existing Mortgage                                      Y\n",
       "Existing Current Account                               Y\n",
       "Existing Loan                                        NaN\n",
       "Existing Savings Acc                                   Y\n",
       "Salary Mandated to Same Bank Current Account           N\n",
       "Time with Bank Years                                  99\n",
       "Decision                                        Approved\n",
       "Status                                                 0\n",
       "Status - G/B/R                                         G\n",
       "Total Salary                                          52\n",
       "Purpose1                                             HOR\n",
       "Purpose2                                             NaN\n",
       "Purpose3                                             NaN\n",
       "Multiple Customers                                     0\n",
       "Single Purpose                                         1\n",
       "Name: 1097, dtype: object"
      ]
     },
     "execution_count": 217,
     "metadata": {},
     "output_type": "execute_result"
    }
   ],
   "source": [
    "#example of column w 99 years at bank - clearly error so just remove these entries\n",
    "df.iloc[1097,:]"
   ]
  },
  {
   "cell_type": "code",
   "execution_count": 218,
   "metadata": {},
   "outputs": [],
   "source": [
    "#remove 99 year rows\n",
    "df = df[df[\"Time with Bank Years\"] != 99]"
   ]
  },
  {
   "cell_type": "code",
   "execution_count": 219,
   "metadata": {},
   "outputs": [
    {
     "data": {
      "text/plain": [
       "array([10, 14, 6, 3, 13, 15, 11, 8, 17, 4, 9, 2, 5, 16, 20, 0, 18, 12, 1,\n",
       "       7, 19, 22, 21, 32, 24, 25, 23, 33, 26, 31, 29, 27, 28, 30],\n",
       "      dtype=object)"
      ]
     },
     "execution_count": 219,
     "metadata": {},
     "output_type": "execute_result"
    }
   ],
   "source": [
    "#replace LT year with 0 years\n",
    "df.loc[df[\"Time with Bank Years\"]==\"LT 1 year\",\"Time with Bank Years\"]=0\n",
    "#replace New with 0 years\n",
    "df.loc[df[\"Time with Bank Years\"]==\"New\",\"Time with Bank Years\"]=0\n",
    "#check all value now numeric\n",
    "df[\"Time with Bank Years\"].unique()"
   ]
  },
  {
   "cell_type": "code",
   "execution_count": 221,
   "metadata": {},
   "outputs": [],
   "source": [
    "#delete status column - not needed\n",
    "df = df.drop(\"Status\",axis=1)"
   ]
  },
  {
   "cell_type": "code",
   "execution_count": 222,
   "metadata": {},
   "outputs": [],
   "source": [
    "nationality_column = df.columns.values.tolist()[8]\n",
    "\n",
    "#delete nationality column to avoid discrimination\n",
    "df = df.drop(nationality_column,axis=1)"
   ]
  },
  {
   "cell_type": "code",
   "execution_count": 232,
   "metadata": {},
   "outputs": [],
   "source": [
    "#remove date column, not necessary\n",
    "df = df.iloc[:,1:]"
   ]
  },
  {
   "cell_type": "code",
   "execution_count": 237,
   "metadata": {},
   "outputs": [
    {
     "data": {
      "text/plain": [
       "6466"
      ]
     },
     "execution_count": 237,
     "metadata": {},
     "output_type": "execute_result"
    }
   ],
   "source": [
    "#only use accepted applications\n",
    "df = df[df[\"Status - G/B/R\"] != \"R\"]"
   ]
  },
  {
   "cell_type": "code",
   "execution_count": 262,
   "metadata": {},
   "outputs": [
    {
     "data": {
      "text/plain": [
       "Term                                             int64\n",
       "Customer1 Employment Status                     object\n",
       "Customer2 Emp Status                            object\n",
       "Application Type                                object\n",
       "Industry Sector                                 object\n",
       "Customer1 Age (YYMM)                             int64\n",
       "Customer2 Age (YYMM)                             int64\n",
       "CA Months of Unauthorised Debit Interest L6M     int64\n",
       "CA Average Number of Transactions L6M            int64\n",
       "CA Average Balance L6M                           int64\n",
       "CA Average Credit Turnover L6M                   int64\n",
       "Existing Mortgage                               object\n",
       "Existing Current Account                        object\n",
       "Existing Loan                                   object\n",
       "Existing Savings Acc                            object\n",
       "Salary Mandated to Same Bank Current Account    object\n",
       "Time with Bank Years                            object\n",
       "Decision                                        object\n",
       "Status - G/B/R                                  object\n",
       "Total Salary                                     int64\n",
       "Purpose1                                        object\n",
       "Purpose2                                        object\n",
       "Purpose3                                        object\n",
       "Multiple Customers                               int64\n",
       "Single Purpose                                   int64\n",
       "dtype: object"
      ]
     },
     "execution_count": 262,
     "metadata": {},
     "output_type": "execute_result"
    }
   ],
   "source": [
    "df = pd.DataFrame(df)\n",
    "df.dtypes"
   ]
  },
  {
   "cell_type": "code",
   "execution_count": 266,
   "metadata": {},
   "outputs": [],
   "source": [
    "df[\"Time with Bank Years\"] = pd.to_numeric(df[\"Time with Bank Years\"])"
   ]
  },
  {
   "cell_type": "code",
   "execution_count": 267,
   "metadata": {},
   "outputs": [
    {
     "data": {
      "text/plain": [
       "Term                                             int64\n",
       "Customer1 Employment Status                     object\n",
       "Customer2 Emp Status                            object\n",
       "Application Type                                object\n",
       "Industry Sector                                 object\n",
       "Customer1 Age (YYMM)                             int64\n",
       "Customer2 Age (YYMM)                             int64\n",
       "CA Months of Unauthorised Debit Interest L6M     int64\n",
       "CA Average Number of Transactions L6M            int64\n",
       "CA Average Balance L6M                           int64\n",
       "CA Average Credit Turnover L6M                   int64\n",
       "Existing Mortgage                               object\n",
       "Existing Current Account                        object\n",
       "Existing Loan                                   object\n",
       "Existing Savings Acc                            object\n",
       "Salary Mandated to Same Bank Current Account    object\n",
       "Time with Bank Years                             int64\n",
       "Decision                                        object\n",
       "Status - G/B/R                                  object\n",
       "Total Salary                                     int64\n",
       "Purpose1                                        object\n",
       "Purpose2                                        object\n",
       "Purpose3                                        object\n",
       "Multiple Customers                               int64\n",
       "Single Purpose                                   int64\n",
       "dtype: object"
      ]
     },
     "execution_count": 267,
     "metadata": {},
     "output_type": "execute_result"
    }
   ],
   "source": [
    "df.dtypes"
   ]
  },
  {
   "cell_type": "code",
   "execution_count": 272,
   "metadata": {},
   "outputs": [],
   "source": [
    "df = df.drop(\"Decision\",axis = 1)"
   ]
  },
  {
   "cell_type": "markdown",
   "metadata": {},
   "source": [
    "### Random Forest"
   ]
  },
  {
   "cell_type": "code",
   "execution_count": 289,
   "metadata": {},
   "outputs": [],
   "source": [
    "import sklearn\n",
    "import sklearn.linear_model\n",
    "import sklearn.tree\n",
    "import sklearn.ensemble \n",
    "import sklearn.neighbors\n",
    "import sklearn.preprocessing\n",
    "\n",
    "from sklearn.pipeline import make_pipeline\n",
    "\n",
    "#dummy variables for categoricals\n",
    "tree_data = pd.get_dummies(df)\n",
    "\n",
    "\n",
    "tree_data = tree_data.drop(\"Status - G/B/R_B\",axis=\"columns\")\n",
    "tree_data = tree_data.drop(\"Status - G/B/R_G\",axis=\"columns\")\n",
    "tree_data[\"Outcome\"] = df[\"Status - G/B/R\"]\n",
    "\n",
    "from sklearn.model_selection import train_test_split\n",
    "X_train, X_test, y_train, y_test = train_test_split(tree_data.drop(\"Outcome\",axis = \"columns\"),tree_data[\"Outcome\"],test_size = 0.2)"
   ]
  },
  {
   "cell_type": "code",
   "execution_count": 292,
   "metadata": {},
   "outputs": [
    {
     "data": {
      "text/plain": [
       "RandomForestClassifier(n_estimators=20)"
      ]
     },
     "execution_count": 292,
     "metadata": {},
     "output_type": "execute_result"
    }
   ],
   "source": [
    "from sklearn.ensemble import RandomForestClassifier\n",
    "model = RandomForestClassifier(n_estimators = 20)\n",
    "model.fit(X_train,y_train)\n",
    "\n"
   ]
  },
  {
   "cell_type": "code",
   "execution_count": 293,
   "metadata": {},
   "outputs": [
    {
     "data": {
      "text/plain": [
       "0.9296754250386399"
      ]
     },
     "execution_count": 293,
     "metadata": {},
     "output_type": "execute_result"
    }
   ],
   "source": [
    "model.score(X_test,y_test)"
   ]
  },
  {
   "cell_type": "code",
   "execution_count": 294,
   "metadata": {},
   "outputs": [],
   "source": [
    "y_pred = model.predict(X_test)"
   ]
  },
  {
   "cell_type": "code",
   "execution_count": 295,
   "metadata": {},
   "outputs": [
    {
     "data": {
      "text/plain": [
       "array([[   7,   81],\n",
       "       [  10, 1196]])"
      ]
     },
     "execution_count": 295,
     "metadata": {},
     "output_type": "execute_result"
    }
   ],
   "source": [
    "from sklearn.metrics import confusion_matrix\n",
    "matrix = confusion_matrix(y_test,y_pred)\n",
    "matrix"
   ]
  },
  {
   "cell_type": "code",
   "execution_count": 303,
   "metadata": {},
   "outputs": [
    {
     "data": {
      "text/plain": [
       "4765"
      ]
     },
     "execution_count": 303,
     "metadata": {},
     "output_type": "execute_result"
    }
   ],
   "source": [
    "list(y_train).count(\"G\")"
   ]
  },
  {
   "cell_type": "code",
   "execution_count": 304,
   "metadata": {},
   "outputs": [
    {
     "data": {
      "text/plain": [
       "<matplotlib.axes._subplots.AxesSubplot at 0x7fb614c19eb0>"
      ]
     },
     "execution_count": 304,
     "metadata": {},
     "output_type": "execute_result"
    },
    {
     "data": {
      "image/png": "[encoded data removed]",
      "text/plain": [
       "<Figure size 720x504 with 2 Axes>"
      ]
     },
     "metadata": {
      "needs_background": "light"
     },
     "output_type": "display_data"
    }
   ],
   "source": [
    "import matplotlib.pyplot as plt\n",
    "\n",
    "plt.figure(figsize=(10,7))\n",
    "sns.heatmap(matrix,annot=True)"
   ]
  },
  {
   "cell_type": "code",
   "execution_count": null,
   "metadata": {},
   "outputs": [],
   "source": []
  }
 ],
 "metadata": {
  "kernelspec": {
   "display_name": "Python 3",
   "language": "python",
   "name": "python3"
  },
  "language_info": {
   "codemirror_mode": {
    "name": "ipython",
    "version": 3
   },
   "file_extension": ".py",
   "mimetype": "text/x-python",
   "name": "python",
   "nbconvert_exporter": "python",
   "pygments_lexer": "ipython3",
   "version": "3.8.3"
  }
 },
 "nbformat": 4,
 "nbformat_minor": 4
}
